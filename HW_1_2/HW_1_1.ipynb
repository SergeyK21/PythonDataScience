{
 "cells": [
  {
   "cell_type": "code",
   "execution_count": 76,
   "metadata": {},
   "outputs": [],
   "source": [
    "import numpy as np\n",
    "import pandas as pd\n",
    "from matplotlib import pyplot as plt\n",
    "plt.style.use('fivethirtyeight')\n",
    "from pylab import rcParams\n",
    "%matplotlib inline\n",
    "%config InlineBackend.figure_format='svg'"
   ]
  },
  {
   "cell_type": "markdown",
   "metadata": {},
   "source": [
    "Создать одномерный массив Numpy под названием a из 12 последовательных целых чисел чисел от 12 до 24 невключительно"
   ]
  },
  {
   "cell_type": "code",
   "execution_count": 77,
   "metadata": {},
   "outputs": [
    {
     "data": {
      "text/plain": [
       "array([22, 21, 23, 23, 14, 23, 18, 15, 20, 14, 16, 14])"
      ]
     },
     "execution_count": 77,
     "metadata": {},
     "output_type": "execute_result"
    }
   ],
   "source": [
    "a=np.random.randint(12,24,12)\n",
    "a"
   ]
  },
  {
   "cell_type": "markdown",
   "metadata": {},
   "source": [
    "Создать 5 двумерных массивов разной формы из массива a. Не использовать в аргументах метода reshape число -1."
   ]
  },
  {
   "cell_type": "code",
   "execution_count": 78,
   "metadata": {},
   "outputs": [
    {
     "name": "stdout",
     "output_type": "stream",
     "text": [
      "<class 'numpy.ndarray'>\n",
      "[[22 21 23 23 14 23]\n",
      " [18 15 20 14 16 14]]\n",
      "<class 'numpy.ndarray'>\n",
      "[[22 21 23 23]\n",
      " [14 23 18 15]\n",
      " [20 14 16 14]]\n",
      "<class 'numpy.ndarray'>\n",
      "[[22 21 23]\n",
      " [23 14 23]\n",
      " [18 15 20]\n",
      " [14 16 14]]\n",
      "<class 'numpy.ndarray'>\n",
      "[[22 21]\n",
      " [23 23]\n",
      " [14 23]\n",
      " [18 15]\n",
      " [20 14]\n",
      " [16 14]]\n",
      "<class 'numpy.ndarray'>\n",
      "[[22]\n",
      " [21]\n",
      " [23]\n",
      " [23]\n",
      " [14]\n",
      " [23]\n",
      " [18]\n",
      " [15]\n",
      " [20]\n",
      " [14]\n",
      " [16]\n",
      " [14]]\n"
     ]
    }
   ],
   "source": [
    "array_a=[]\n",
    "array_r=[(2,6),(3,4),(4,3),(6,2),(12,1)]\n",
    "for el in array_r:\n",
    "    a.resize(el)\n",
    "    array_a.append(a.copy())\n",
    "for el in array_a:\n",
    "    print(type(el))\n",
    "    print(el)"
   ]
  },
  {
   "cell_type": "markdown",
   "metadata": {},
   "source": [
    "Создать 5 двумерных массивов разной формы из массива a. Использовать в аргументах метода reshape число -1 (в трех примерах - для обозначения числа столбцов, в двух - для строк)."
   ]
  },
  {
   "cell_type": "code",
   "execution_count": 79,
   "metadata": {},
   "outputs": [
    {
     "name": "stdout",
     "output_type": "stream",
     "text": [
      "<class 'numpy.ndarray'>\n",
      "[[22 21 23 23 14 23]\n",
      " [18 15 20 14 16 14]]\n",
      "<class 'numpy.ndarray'>\n",
      "[[22 21 23 23]\n",
      " [14 23 18 15]\n",
      " [20 14 16 14]]\n",
      "<class 'numpy.ndarray'>\n",
      "[[22 21 23]\n",
      " [23 14 23]\n",
      " [18 15 20]\n",
      " [14 16 14]]\n",
      "<class 'numpy.ndarray'>\n",
      "[[22 21]\n",
      " [23 23]\n",
      " [14 23]\n",
      " [18 15]\n",
      " [20 14]\n",
      " [16 14]]\n",
      "<class 'numpy.ndarray'>\n",
      "[[22]\n",
      " [21]\n",
      " [23]\n",
      " [23]\n",
      " [14]\n",
      " [23]\n",
      " [18]\n",
      " [15]\n",
      " [20]\n",
      " [14]\n",
      " [16]\n",
      " [14]]\n"
     ]
    }
   ],
   "source": [
    "array_a=[]\n",
    "array_r=[(2,-1),(3,-1),(4,-1),(-1,2),(-1,1)]\n",
    "for el in array_r:\n",
    "    array_a.append(a.reshape(el))\n",
    "for el in array_a:\n",
    "    print(type(el))\n",
    "    print(el)"
   ]
  },
  {
   "cell_type": "markdown",
   "metadata": {},
   "source": [
    "Можно ли массив Numpy, состоящий из одного столбца и 12 строк, назвать одномерным?"
   ]
  },
  {
   "cell_type": "markdown",
   "metadata": {},
   "source": [
    "Ответ: Нет."
   ]
  },
  {
   "cell_type": "code",
   "execution_count": 80,
   "metadata": {},
   "outputs": [
    {
     "data": {
      "text/plain": [
       "array([[22],\n",
       "       [21],\n",
       "       [23],\n",
       "       [23],\n",
       "       [14],\n",
       "       [23],\n",
       "       [18],\n",
       "       [15],\n",
       "       [20],\n",
       "       [14],\n",
       "       [16],\n",
       "       [14]])"
      ]
     },
     "execution_count": 80,
     "metadata": {},
     "output_type": "execute_result"
    }
   ],
   "source": [
    "array_a[4]"
   ]
  },
  {
   "cell_type": "markdown",
   "metadata": {},
   "source": [
    "Создать массив из 3 строк и 4 столбцов, состоящий из случайных чисел с плавающей запятой из нормального распределения со средним, равным 0 и среднеквадратичным отклонением, равным 1.0. Получить из этого массива одномерный массив с таким же атрибутом size, как и исходный массив."
   ]
  },
  {
   "cell_type": "code",
   "execution_count": 81,
   "metadata": {},
   "outputs": [
    {
     "name": "stdout",
     "output_type": "stream",
     "text": [
      "12\n"
     ]
    },
    {
     "data": {
      "text/plain": [
       "array([[-0.52512285,  1.91277127, -2.02671962,  1.11942361],\n",
       "       [ 0.77919263, -1.10109776,  1.13022819,  0.37311891],\n",
       "       [-0.38647295, -1.15877024,  0.56611283, -0.70445345]])"
      ]
     },
     "execution_count": 81,
     "metadata": {},
     "output_type": "execute_result"
    }
   ],
   "source": [
    "a=np.random.randn(3,4)\n",
    "print(a.size)\n",
    "a"
   ]
  },
  {
   "cell_type": "code",
   "execution_count": 82,
   "metadata": {},
   "outputs": [
    {
     "name": "stdout",
     "output_type": "stream",
     "text": [
      "12\n"
     ]
    },
    {
     "data": {
      "text/plain": [
       "array([-0.52512285,  1.91277127, -2.02671962,  1.11942361,  0.77919263,\n",
       "       -1.10109776,  1.13022819,  0.37311891, -0.38647295, -1.15877024,\n",
       "        0.56611283, -0.70445345])"
      ]
     },
     "execution_count": 82,
     "metadata": {},
     "output_type": "execute_result"
    }
   ],
   "source": [
    "b=a.flatten()\n",
    "print(b.size)\n",
    "b"
   ]
  },
  {
   "cell_type": "markdown",
   "metadata": {},
   "source": [
    "Создать массив a, состоящий из целых чисел, убывающих от 20 до 0 невключительно с интервалом 2."
   ]
  },
  {
   "cell_type": "code",
   "execution_count": 83,
   "metadata": {},
   "outputs": [
    {
     "data": {
      "text/plain": [
       "array([20, 18, 16, 14, 12, 10,  8,  6,  4,  2])"
      ]
     },
     "execution_count": 83,
     "metadata": {},
     "output_type": "execute_result"
    }
   ],
   "source": [
    "a=np.arange(20,0,-2)\n",
    "a"
   ]
  },
  {
   "cell_type": "markdown",
   "metadata": {},
   "source": [
    "Создать массив b, состоящий из 1 строки и 10 столбцов: целых чисел, убывающих от 20 до 1 невключительно с интервалом 2. В чем разница между массивами a и b?"
   ]
  },
  {
   "cell_type": "markdown",
   "metadata": {},
   "source": [
    "Ответ: нет разницы."
   ]
  },
  {
   "cell_type": "code",
   "execution_count": 84,
   "metadata": {},
   "outputs": [
    {
     "data": {
      "text/plain": [
       "array([[20, 18, 16, 14, 12, 10,  8,  6,  4,  2]])"
      ]
     },
     "execution_count": 84,
     "metadata": {},
     "output_type": "execute_result"
    }
   ],
   "source": [
    "b=np.array([np.arange(20,1,-2)])\n",
    "b"
   ]
  },
  {
   "cell_type": "markdown",
   "metadata": {},
   "source": [
    "Вертикально соединить массивы a и b. a - двумерный массив из нулей, число строк которого больше 1 и на 1 меньше, чем число строк двумерного массива b, состоящего из единиц. Итоговый массив v должен иметь атрибут size, равный 10."
   ]
  },
  {
   "cell_type": "code",
   "execution_count": 85,
   "metadata": {},
   "outputs": [
    {
     "name": "stdout",
     "output_type": "stream",
     "text": [
      "v.size = 10\n"
     ]
    },
    {
     "data": {
      "text/plain": [
       "array([[0., 0.],\n",
       "       [0., 0.],\n",
       "       [0., 0.],\n",
       "       [1., 1.],\n",
       "       [1., 1.]])"
      ]
     },
     "execution_count": 85,
     "metadata": {},
     "output_type": "execute_result"
    }
   ],
   "source": [
    "a=np.zeros((3,2))\n",
    "b=np.ones((2,2))\n",
    "v=np.vstack((a,b))\n",
    "print(f'v.size = {v.size}')\n",
    "v"
   ]
  },
  {
   "cell_type": "markdown",
   "metadata": {},
   "source": [
    "Создать одномерный массив а, состоящий из последовательности целых чисел от 0 до 12. Поменять форму этого массива, чтобы получилась матрица A (двумерный массив Numpy), состоящая из 4 строк и 3 столбцов. Получить матрицу At путем транспонирования матрицы A. Получить матрицу B, умножив матрицу A на матрицу At с помощью матричного умножения. Какой размер имеет матрица B? Получится ли вычислить обратную матрицу для матрицы B и почему?"
   ]
  },
  {
   "cell_type": "code",
   "execution_count": 86,
   "metadata": {},
   "outputs": [
    {
     "name": "stdout",
     "output_type": "stream",
     "text": [
      "B.size = 16\n"
     ]
    },
    {
     "data": {
      "text/plain": [
       "array([[  5,  14,  23,  32],\n",
       "       [ 14,  50,  86, 122],\n",
       "       [ 23,  86, 149, 212],\n",
       "       [ 32, 122, 212, 302]])"
      ]
     },
     "execution_count": 86,
     "metadata": {},
     "output_type": "execute_result"
    }
   ],
   "source": [
    "a=np.arange(0,12)\n",
    "A=a.reshape((4,3))\n",
    "At=A.T\n",
    "B=A.dot(At)\n",
    "print(f'B.size = {B.size}')\n",
    "B\n"
   ]
  },
  {
   "cell_type": "markdown",
   "metadata": {},
   "source": [
    "Инициализируйте генератор случайных числе с помощью объекта seed, равного 42."
   ]
  },
  {
   "cell_type": "code",
   "execution_count": 87,
   "metadata": {},
   "outputs": [],
   "source": [
    "np.random.seed(42)"
   ]
  },
  {
   "cell_type": "markdown",
   "metadata": {},
   "source": [
    "Создайте одномерный массив c, составленный из последовательности 16-ти случайных равномерно распределенных целых чисел от 0 до 16 невключительно."
   ]
  },
  {
   "cell_type": "code",
   "execution_count": 88,
   "metadata": {},
   "outputs": [
    {
     "data": {
      "text/plain": [
       "array([  7.94742645,  -2.21222882,  10.36301661,  24.3684777 ,\n",
       "        -3.746454  ,  -3.74619131,  25.26740505,  12.27895567,\n",
       "        -7.51159017,   8.6809607 ,  -7.41468308,  -7.45167606,\n",
       "         3.87139635, -30.61248391, -27.59868532,  -8.99660047])"
      ]
     },
     "execution_count": 88,
     "metadata": {},
     "output_type": "execute_result"
    }
   ],
   "source": [
    "c=np.random.normal(0,16,size=16)\n",
    "c"
   ]
  },
  {
   "cell_type": "markdown",
   "metadata": {},
   "source": [
    "Поменяйте его форму так, чтобы получилась квадратная матрица C. Получите матрицу D, поэлементно прибавив матрицу B из предыдущего вопроса к матрице C, умноженной на 10. Вычислите определитель, ранг и обратную матрицу D_inv для D."
   ]
  },
  {
   "cell_type": "code",
   "execution_count": 89,
   "metadata": {},
   "outputs": [
    {
     "name": "stdout",
     "output_type": "stream",
     "text": [
      "-9730985070.93442\n",
      "4\n"
     ]
    },
    {
     "data": {
      "text/plain": [
       "array([[ 0.02319072, -0.00027786,  0.00438988, -0.00739875],\n",
       "       [ 0.00530374, -0.00173236,  0.00447832, -0.00335278],\n",
       "       [ 0.00449427,  0.00395587,  0.00028305, -0.00287513],\n",
       "       [-0.00732185, -0.00191528, -0.00211236,  0.00410229]])"
      ]
     },
     "execution_count": 89,
     "metadata": {},
     "output_type": "execute_result"
    }
   ],
   "source": [
    "C=c.reshape(4,-1)\n",
    "D=(C+B)*10\n",
    "det_D=np.linalg.det(D)\n",
    "print(det_D)\n",
    "r_D=np.linalg.matrix_rank(D)\n",
    "print(r_D)\n",
    "D_inv=np.linalg.inv(D)\n",
    "D_inv"
   ]
  },
  {
   "cell_type": "markdown",
   "metadata": {},
   "source": [
    "Приравняйте к нулю отрицательные числа в матрице D_inv, а положительные - к единице. Убедитесь, что в матрице D_inv остались только нули и единицы. С помощью функции numpy.where, используя матрицу D_inv в качестве маски, а матрицы B и C - в качестве источников данных, получите матрицу E размером 4x4.  Элементы матрицы E, для которых соответствующий элемент матрицы D_inv равен 1, должны быть равны соответствующему элементу матрицы B, а элементы матрицы E, для которых соответствующий элемент матрицы D_inv равен 0, должны быть равны соответствующему элементу матрицы C."
   ]
  },
  {
   "cell_type": "code",
   "execution_count": 90,
   "metadata": {},
   "outputs": [
    {
     "name": "stdout",
     "output_type": "stream",
     "text": [
      "B\n",
      "[[  5  14  23  32]\n",
      " [ 14  50  86 122]\n",
      " [ 23  86 149 212]\n",
      " [ 32 122 212 302]]\n",
      "C\n",
      "[[  7.94742645  -2.21222882  10.36301661  24.3684777 ]\n",
      " [ -3.746454    -3.74619131  25.26740505  12.27895567]\n",
      " [ -7.51159017   8.6809607   -7.41468308  -7.45167606]\n",
      " [  3.87139635 -30.61248391 -27.59868532  -8.99660047]]\n",
      "D_inv\n",
      "[[1. 0. 1. 0.]\n",
      " [1. 0. 1. 0.]\n",
      " [1. 1. 1. 0.]\n",
      " [0. 0. 0. 1.]]\n"
     ]
    },
    {
     "data": {
      "text/plain": [
       "array([[  5.        ,  -2.21222882,  23.        ,  24.3684777 ],\n",
       "       [ 14.        ,  -3.74619131,  86.        ,  12.27895567],\n",
       "       [ 23.        ,  86.        , 149.        ,  -7.45167606],\n",
       "       [  3.87139635, -30.61248391, -27.59868532, 302.        ]])"
      ]
     },
     "execution_count": 90,
     "metadata": {},
     "output_type": "execute_result"
    }
   ],
   "source": [
    "D_inv[D_inv<0]=0\n",
    "D_inv[D_inv>0]=1\n",
    "print(f'B\\n{B}')\n",
    "print(f'C\\n{C}')\n",
    "print(f'D_inv\\n{D_inv}')\n",
    "E=D_inv.copy()\n",
    "E[np.where(D_inv==1)]=B[np.where(D_inv==1)]\n",
    "E[np.where(D_inv==0)]=C[np.where(D_inv==0)]\n",
    "E"
   ]
  }
 ],
 "metadata": {
  "interpreter": {
   "hash": "fdda44e049372b8289e6fb6bfc7e441ae40ddf280238c77c4112c7b270315586"
  },
  "kernelspec": {
   "display_name": "Python 3.9.7 64-bit",
   "language": "python",
   "name": "python3"
  },
  "language_info": {
   "codemirror_mode": {
    "name": "ipython",
    "version": 3
   },
   "file_extension": ".py",
   "mimetype": "text/x-python",
   "name": "python",
   "nbconvert_exporter": "python",
   "pygments_lexer": "ipython3",
   "version": "3.9.7"
  },
  "orig_nbformat": 4
 },
 "nbformat": 4,
 "nbformat_minor": 2
}
